{
 "cells": [
  {
   "cell_type": "raw",
   "metadata": {},
   "source": [
    "---\n",
    "title: \"Practical Statistics for Data Scientists\"\n",
    "author: \"Dan Martin\"\n",
    "date: \"2020-02-17\"\n",
    "..."
   ]
  },
  {
   "cell_type": "markdown",
   "metadata": {},
   "source": [
    "# 1 - Exploratory Data Analysis\n",
    "\n",
    "## Elements of Structured Data\n",
    "\n",
    "### Key Terms for Data Types\n",
    "\n",
    "- **_Continuous:_** Data that can take on any value in an interval\n",
    "    - **Synonyms:** interval, float, numeric\n",
    "- **_Discrete:_** Data that can take on only integer values, such as counts\n",
    "    - **Synonyms:** integer, count\n",
    "- **_Categorical:_** Data that can take on only a specific set of values representing a set of possible categories\n",
    "    - **Synonyms:** enums, enumerated, factors, nominal, polychotomous\n",
    "- **_Binary:_** A special case of categorical data with just two categories of values (0/1, true/false)\n",
    "    - **Synonyms:** dichotomous, logical, indicator, boolean\n",
    "- **_Ordinal:_** Categorical Data that has an explicit ordering\n",
    "    - **Synonyms:** ordered factor\n",
    "    \n",
    "### Key Ideas\n",
    "\n",
    "- Data is typically classified in software by type\n",
    "- Data types include numeric (continuous, discrete) and categorical (binary, ordinal)\n",
    "- Data typing in software acts s a signal to the software on how to process the data\n",
    "    \n",
    "## Rectangular Data\n",
    "\n",
    "### Key Terms for Rectangular Data\n",
    "\n",
    "- **_Dataframe:_** Rectangular data (like a spreadsheet) is the basic data structure for statistical and machine learning models\n",
    "- **_Feature:_** A column in the table is commonly referred to as a _feature_\n",
    "    - **Synonyms:** attribute, input, predictor, variable\n",
    "- **_Outcome:_** Many data science projects involve predicting an _outcome_ - often a yes/no outcome (In table 1.1 it is 'auction was competitive or not').  The _features_ are sometimes used to predict the outcome in an experiment or study\n",
    "    - **Synonyms:** dependent variable, response, target, output\n",
    "\n",
    "\n",
    "|Category          |Currency|sellerRating|Duration|endDay|closePrice|openPrice|Competitive?|\n",
    "|------------------|--------|------------|--------|------|----------|---------|------------|\n",
    "|Music/ Movie/ Game|US      |3249        |5       |Mon   |0.01      |0.01     |0           |\n",
    "|Music/ Movie/ Game|US      |3249        |5       |Mon   |0.01      |0.01     |0           |\n",
    "|Automotive        |US      |3115        |7       |Tue   |0.01      |0.01     |0           |\n",
    "|Automotive        |US      |3115        |7       |Tue   |0.01      |0.01     |0           |\n",
    "|Automotive        |US      |3115        |7       |Tue   |0.01      |0.01     |0           |\n",
    "|Automotive        |US      |3115        |7       |Tue   |0.01      |0.01     |0           |\n",
    "|Automotive        |US      |3115        |7       |Tue   |0.01      |0.01     |1           |\n",
    "|Automotive        |US      |3115        |7       |Tue   |0.01      |0.01     |1           |\n",
    "\n",
    "Table 1.1: Sample Data\n",
    "\n",
    "## Estimates of Location\n",
    "\n",
    "Location can also be throught of as central tendency, where does the \"typical\" value lay?\n",
    "\n",
    "### Key Terms for Estimates of Location\n",
    "\n",
    "- **_Mean:_** The sum of all values divided by the number of values\n",
    "    - **Synonyms:** average\n",
    "- **_Weighted Mean:_** The sum of all values times a weight divided by the sum of the weights\n",
    "    - **Synonyms:** weighted average\n",
    "- **_Median:_** The value such that one half of the data lies above and below\n",
    "    - **Synonyms:** 50th Percentile\n",
    "- **_Percentile:_** The value such that P percent of the data lies below\n",
    "    - **Synonyms:** quantile\n",
    "- **_Weighted Median:_** The value such that one-half of the sum of the weights lies above and below the sorted data\n",
    "- **_Trimmed Mean:_** The average of all values after dropping a fixed number of extreme values\n",
    "    - **Synonyms:** truncated mean\n",
    "\n",
    "**_Mean_**\n",
    "\n",
    "The mean represents the average - it's not a terribly robust estimate, however you can use a trimmed or weighted mean to improve resistance to outliers.\n",
    "\n",
    "$$\\overline{x} = \\mu = \\frac{\\sum_{i}^{n}x_{i}}{n}$$\n",
    "\n",
    "**_Trimmed Mean_**\n",
    "\n",
    "$$\\overline{x}_{t} = x = \\frac{\\sum_{i = p + 1}^{n - p}x_{i}}{n - 2p}$$\n",
    "\n",
    "**_Weighted Mean_**\n",
    "\n",
    "$$\\overline{x}_{w} = \\frac{\\sum_{i = 1}^{n}w_{i}x_{i}}{\\sum_{i}^{n}w_{i}}$$\n",
    "\n",
    "### Robust Metrics\n",
    "\n",
    "Median, trimmed and weighted mean are resistant to outliers - ..."
   ]
  },
  {
   "cell_type": "code",
   "execution_count": 3,
   "metadata": {},
   "outputs": [
    {
     "name": "stdout",
     "output_type": "stream",
     "text": [
      "Population Metrics\n",
      "------------------------------ \n",
      "\n",
      "Mean: 6,162,876\n",
      "Trimmed Mean: 4,783,697\n",
      "Median: 4,436,370\n",
      "\n",
      "Murder Rate Metrics\n",
      "------------------------------ \n",
      "\n",
      "Mean: 4.07\n",
      "Trimmed Mean: 4.446\n",
      "Weighted Mean: 4.44583\n",
      "Median: 4.000\n",
      "Weighted Median: 4.400\n"
     ]
    }
   ],
   "source": [
    "import pandas as pd\n",
    "import numpy as np\n",
    "from scipy.stats import trim_mean\n",
    "import wquantiles\n",
    "\n",
    "state = pd.read_csv('../data/state.csv')\n",
    "\n",
    "# Population\n",
    "\n",
    "population_x_bar = np.mean(state['Population'])\n",
    "population_x_bar_t = trim_mean(state['Population'], 0.1)\n",
    "population_x_med = np.median(state['Population'])\n",
    "\n",
    "# Murder Rate\n",
    "\n",
    "murder_rate_x_bar = np.mean(state['Murder.Rate'])\n",
    "murder_rate_x_bar_t = trim_mean(state['Murder.Rate'], 0.1)\n",
    "murder_rate_x_bar_wt = np.average(state['Murder.Rate'], \n",
    "                                  weights=state['Population'])\n",
    "murder_rate_x_med = np.median(state['Murder.Rate'])\n",
    "murder_rate_x_med_w = wquantiles.median(state['Murder.Rate'], \n",
    "                                        weights=state['Population'])\n",
    "\n",
    "# -----------------------------------\n",
    "# Summary Output - Location Estimates\n",
    "# -----------------------------------\n",
    "\n",
    "print('Population Metrics')\n",
    "print('-'*30,'\\n')\n",
    "print(f'Mean: {population_x_bar:,.0f}')\n",
    "print(f'Trimmed Mean: {population_x_bar_t:,.0f}')\n",
    "print(f'Median: {population_x_med:,.0f}\\n')\n",
    "\n",
    "print('Murder Rate Metrics')\n",
    "print('-'*30,'\\n')\n",
    "print(f'Mean: {murder_rate_x_bar:,.2f}')\n",
    "print(f'Trimmed Mean: {murder_rate_x_bar_wt:,.3f}')\n",
    "print(f'Weighted Mean: {murder_rate_x_bar_wt:,.5f}')\n",
    "print(f'Median: {murder_rate_x_med:,.3f}')\n",
    "print(f'Weighted Median: {murder_rate_x_med_w:,.3f}')"
   ]
  },
  {
   "cell_type": "markdown",
   "metadata": {},
   "source": [
    "### Key Ideas\n",
    "\n",
    "- The basic metric for location is the mean, but it can be sensitive to extreme values (outliers)\n",
    "- Other metrics (median, trimmed mean) are less sensitive to outliers and unusual distributions, hence more robust\n",
    "\n",
    "### Further Reading\n",
    "\n",
    "[Wikipedia: Central Tendency](https://en.wikipedia.org/wiki/Central_tendency)  \n",
    "John Tukey - _Exploratory Data Analysis_ 1977 Pearson"
   ]
  },
  {
   "cell_type": "markdown",
   "metadata": {},
   "source": [
    "## Estimates of Variability\n",
    "\n",
    "Variability measures disperion around the middle (central tendency).  Part of statistics is understanding random vs. real variability.\n",
    "\n",
    "### Key Terms for Variability Metrics\n",
    "- **_Deviations:_** The difference between the observed value and the estimate of location\n",
    "    - **Synonyms:** errors, residuals\n",
    "- **_Variance:_** The sum of squared deviations from the mean divided by $n - 1$, where $n$ is the number of observations\n",
    "    - **Synonyms:** mean-squared-error\n",
    "- **_Standard Deviation:_** The square root of the variance\n",
    "    - **Synonyms:** l1-norm, Euclidean norm\n",
    "- **_Mean Absolute Deviation:_** The mean of the absolute deviations from the mean\n",
    "    - **Synonyms:** l2-norm, Manhattan norm\n",
    "- **_Median Absolute Deviation from the Median:_** The median of the absolute values of the deviations from the median\n",
    "- **_Range:_** The difference between the largest and the smallest values in a dataset\n",
    "- **_Order Statistics:_** Metrics based on the data values ordered from smallest to largest\n",
    "    - **Synonyms:** ranks\n",
    "- **_Percentile:_** The value such that P-percent take on this value or less and (100 - P) take on this value or more\n",
    "    - **Synonyms:** quantile\n",
    "- **_Interquartile Range:_** The difference between the 75th and 25th percentile\n",
    "    - **Synonyms:** IQR\n",
    "    \n",
    "### Standard Deviation and Related Estimates\n",
    "\n",
    "Since the sum of all deviations is zero, there are corrections to the data that need to be made to get meaningful measures of dispersion.\n",
    "\n",
    "#### Mean Absolute Deviation\n",
    "\n",
    "Using the absolute deviations eliminates the offset of the positive and negative deviations:\n",
    "\n",
    "$$\\text{Mean Absolution Deviation} = \\frac{\\sum_{i=1}^{n}\\left|x_i - \\overline{x}\\right|}{n}$$\n",
    "\n",
    "#### Variance and Standard Deviation\n",
    "\n",
    "These are two of the most widely used measures of variability - squaring the deviations eliminates the positive/negative offset:\n",
    "\n",
    "$$\\text{Variance} = s^2 = \\frac{\\sum_{i=1}^{n} (x_i - \\overline{x})^2}{n-1}$$  \n",
    "$$\\text{Standard Deviation} = s = \\sqrt{\\text{Variance}}$$  \n",
    "The standard deviation is easy to work with since it's on the same scale as the measure in question\n",
    "\n",
    "> **Degrees of Freedom - $n$ vs. $n - 1$:**\n",
    "> The use of $n - 1$ vs $n$ in calulcating standard deviation comes from the concept of degrees of freedom.  The estimate of variance without using degrees of freedom results in what's called a biased estimate.  This is because there is a constraint placed on the calulation of the estimate of variance - namely, you have already estimated the mean.  This means that you have one fewer degree of freedom in the system because of this constraint.  Hence, dividing by $n - 1$ yields what we call the _unbiased estimator_.\n",
    "\n",
    "**Variance**, **Standard Deviation**, and **Mean Absolute Deviation** are not robust estimates - they are all sensitive to outliers, especially variance and SD since they use squared deviations.\n"
   ]
  },
  {
   "cell_type": "code",
   "execution_count": 4,
   "metadata": {},
   "outputs": [
    {
     "name": "stdout",
     "output_type": "stream",
     "text": [
      "Population - Variability\n",
      "------------------------------ \n",
      "\n",
      "Standard Deviation: 6,779,407.115\n"
     ]
    }
   ],
   "source": [
    "# -------------------------------------\n",
    "# Variance Measures\n",
    "# -------------------------------------\n",
    "\n",
    "# Calculations\n",
    "\n",
    "population_sd = np.std(state['Population'])\n",
    "\n",
    "# Output\n",
    "\n",
    "print('Population - Variability')\n",
    "print('-'*30,'\\n')\n",
    "print(f'Standard Deviation: {population_sd:,.3f}')\n"
   ]
  },
  {
   "cell_type": "markdown",
   "metadata": {},
   "source": [
    "A robust estimate of variability is the Median Absolute Deviation:\n",
    "\n",
    "$$\\text{Median Absolute Deviation} = Median(\\left|x_1 - m\\right|, \\left|x_2 - m\\right|, ..., \\left|x_n - m\\right|)$$\n",
    "\n",
    "### Estimates based on Percentiles\n",
    "\n",
    "Percentiles are a form of order statistics.  For large datasets this can be computationally very expensive operation because the data needs to be sorted to perform it.  Some packages will use algorithms that can quickly calculate an approximate value.\n",
    "\n",
    "For the set $\\{3,1,5,3,6,7,2,9\\}$, we can sort the data to get the ordered set $\\{1,2,3,4,5,6,7,8,9\\}$ and yield the following statistics:\n",
    "- The 25th percentile is 2.5\n",
    "- The 75th percentile is 6.5\n",
    "- The IQR is $6.5-2.5 = 4$\n",
    "\n",
    "> **Percentile: Precise Definition**  \n",
    "> If we have an even number of data ($n$ is even), then the percentile is ambiguous under the preceding definition. In fact, we could take on any value between order statistics $x_{(j)}$ and $x_{(j+1)}$ where $j$ satisfies:  \n",
    "> $$100 * \\frac{j}{n} \\leq P \\leq 100 * \\frac{j+1}{n}$$\n",
    "> Formally, the percentile is the weighted average:  \n",
    "> $$\\text{Percentile}(P) = (1-w)x_{(J)}+wx_{j+1)}$$  \n",
    "> for some weight $w$ between 0 and 1.  Statistical software has slightly different approaches to choosing $w$.  In fact, the _R_ function `quantile` offers nine different alternatives to compute the quantile.  Except for small datasets, you don't need to worry about how the quantile is calculated.  _Python's_ `numpy.quantile` only supports linear interpolation."
   ]
  },
  {
   "cell_type": "code",
   "execution_count": 12,
   "metadata": {},
   "outputs": [
    {
     "name": "stdout",
     "output_type": "stream",
     "text": [
      "Intequartile Range: 4,847,308.00\n",
      "Median Absolute Deviation: 3,849,876.15\n"
     ]
    }
   ],
   "source": [
    "from statsmodels.robust.scale import mad\n",
    "population_iqr = state['Population'].quantile(0.75) - state['Population'].quantile(0.25)\n",
    "population_mad = mad(state['Population'])\n",
    "\n",
    "print(f'Intequartile Range: {population_iqr:,.2f}')\n",
    "print(f'Median Absolute Deviation: {population_mad:,.2f}')"
   ]
  },
  {
   "cell_type": "markdown",
   "metadata": {},
   "source": [
    "### Key Ideas\n",
    "\n",
    "- The variance and standard deviation are the most widespread and routinely reported statistics of variability\n",
    "- Both are sensitive to outliers\n",
    "- More robust metrics include mean and median absolute deviations from the mean and percentiles\n",
    "\n",
    "### Further Reading\n",
    "\n",
    "[David Lane's Percentiles](http://onlinestatbook.com/2/introduction/percentiles.html)  \n",
    "[_R-bloggers_ on Deviations from Mean](http://www.r-bloggers.com/absolute-deviation-around-the-median/)\n",
    "\n",
    "## Exploring the Data Distribution\n",
    "\n",
    "It's useful to look at the distribution overall, in addition to one single measure of loction or dispersion.\n",
    "\n",
    "### Key Terms for Exploring the Distribution\n",
    "\n",
    "- **_Boxplot:_** A plot introduced by Tukey as a quick way to vizualize the distribution of data\n",
    "    - **Synonyms:** box and whisker plot\n",
    "- **_Frequency Table:_** A tally of the count of numeric data values that fall into a set of intervals (bins)\n",
    "- **_Histogram:_** A plot of the frequency table with the bins on the x-axis and the counts (or proportions) on the y-axis.  While visually similar, they should not be confused with histograms.  See [\"Exploring Binary and Categorical Data\"](https://learning.oreilly.com/library/view/practical-statistics-for/9781492072935/ch01.html#ExploringBinaryCategoricalData) for a discussion of the difference\n",
    "- **_Density Plot:_** A smoothed version of the histogram, often based on the _kernel density estimate_"
   ]
  },
  {
   "cell_type": "code",
   "execution_count": 13,
   "metadata": {},
   "outputs": [
    {
     "data": {
      "text/plain": [
       "0.05    1.600\n",
       "0.25    2.425\n",
       "0.50    4.000\n",
       "0.75    5.550\n",
       "0.95    6.510\n",
       "Name: Murder.Rate, dtype: float64"
      ]
     },
     "execution_count": 13,
     "metadata": {},
     "output_type": "execute_result"
    }
   ],
   "source": [
    "# Quantiles\n",
    "\n",
    "state['Murder.Rate'].quantile([0.05, 0.25, 0.5, 0.75, 0.95])"
   ]
  },
  {
   "cell_type": "code",
   "execution_count": 83,
   "metadata": {},
   "outputs": [
    {
     "data": {
      "image/png": "[encoded data removed]",
      "text/plain": [
       "<Figure size 432x504 with 1 Axes>"
      ]
     },
     "metadata": {
      "needs_background": "light"
     },
     "output_type": "display_data"
    }
   ],
   "source": [
    "import matplotlib.pyplot as plt\n",
    "\n",
    "ax = (state['Population']/1_000_000).plot.box(figsize = (6, 7))\n",
    "ax.set_ylabel('Population (millions)')\n",
    "ax.set_title('Population Distribution - Boxplot');"
   ]
  },
  {
   "cell_type": "markdown",
   "metadata": {},
   "source": [
    "We can see the 25 and 75 quantiles match with the borders of the box - the 50th matches the middle of the box.  The ends of the whiskers stop at the most extreme value or 1.5 times the IQR, whichever comes first.\n",
    "\n",
    "### Frequency Tables and Histograms\n",
    "\n",
    "We can use the `pandas` function `cut` to build a frequency table, which shows the interval as the value, and we can use `value_counts` to build out the freq table:"
   ]
  },
  {
   "cell_type": "code",
   "execution_count": 52,
   "metadata": {},
   "outputs": [
    {
     "data": {
      "text/plain": [
       "(526935.67, 4232659.0]      24\n",
       "(4232659.0, 7901692.0]      14\n",
       "(7901692.0, 11570725.0]      6\n",
       "(11570725.0, 15239758.0]     2\n",
       "(15239758.0, 18908791.0]     1\n",
       "(18908791.0, 22577824.0]     1\n",
       "(22577824.0, 26246857.0]     1\n",
       "(26246857.0, 29915890.0]     0\n",
       "(29915890.0, 33584923.0]     0\n",
       "(33584923.0, 37253956.0]     1\n",
       "Name: Population, dtype: int64"
      ]
     },
     "execution_count": 52,
     "metadata": {},
     "output_type": "execute_result"
    }
   ],
   "source": [
    "binnedPopulation = pd.cut(state['Population'], 10)\n",
    "binnedPopulation.value_counts(sort=False)"
   ]
  },
  {
   "cell_type": "markdown",
   "metadata": {},
   "source": [
    "The next visualization is a histogram - bins that are empty are plotted as empty space within the visualization.  The top bin, which has only one state (California) is similar to what we see in the frequency table."
   ]
  },
  {
   "cell_type": "code",
   "execution_count": 79,
   "metadata": {},
   "outputs": [
    {
     "data": {
      "image/png": "[encoded data removed]",
      "text/plain": [
       "<Figure size 648x432 with 1 Axes>"
      ]
     },
     "metadata": {
      "needs_background": "light"
     },
     "output_type": "display_data"
    }
   ],
   "source": [
    "ax = (state['Population'] / 1_000_000).plot.hist(figsize=(9, 6))\n",
    "ax.set_xlabel('Population (millions)')\n",
    "ax.set_title('Population Distribution - Histogram');"
   ]
  },
  {
   "cell_type": "markdown",
   "metadata": {},
   "source": [
    "> **Statistical Moments**  \n",
    "> In statistical theory, location and variability are referred to as the first and second _moments_ of the distribution.  The third and fourth moments of the distribution are called _skewness_ and _kurtosis_.  Skewness refers to whether the data is skewed to larger or smaller numbers and kurtosis indicates the propensity of the data to have extreme values.  Generally, metrics are not used to measure this, but rather visualizations  \n",
    ">  \n",
    "> For defined distibutions such as exponential, gamma, etc., the moments can be calculated\n",
    "\n",
    "### Density Plots and Estimates"
   ]
  },
  {
   "cell_type": "code",
   "execution_count": 75,
   "metadata": {},
   "outputs": [
    {
     "data": {
      "image/png": "[encoded data removed]",
      "text/plain": [
       "<Figure size 504x360 with 1 Axes>"
      ]
     },
     "metadata": {
      "needs_background": "light"
     },
     "output_type": "display_data"
    }
   ],
   "source": [
    "ax = state['Murder.Rate'].plot.hist(density=True, xlim=[0,12], bins=range(1,12), figsize=(7,5))\n",
    "state['Murder.Rate'].plot.density(ax=ax)\n",
    "ax.set_xlabel('Murder Rate (per 100,000)');"
   ]
  },
  {
   "cell_type": "markdown",
   "metadata": {},
   "source": [
    "Densities are related to proportions.  The sum of the area under the curve is 1.  For the proportion between two values you take the are under the curve between two points.\n",
    "\n",
    "> **Density Estimation**  \n",
    "> Density Estimation is a rich topic with a long history in statisticl literature.  In fact, over 20 _R_ packages have been published that offer functions for density estimation. [ _Deng-Wickham 2011_ ] give a comprehensive review of _R_ packages with a particular recommendation for `ASH` or `KernSmooth`.  The density estimation methods in `pandas` and `scikit-learn` also offer good implementations.  For many data science problems, there is no need to worry about the various types of density estimates; it suffices to use the base functions.\n",
    "\n",
    "### Key Ideas\n",
    "\n",
    "- A frequency histogram plots frequency counts on the y-axis and the variable values on the x-axis; it gives a sense of the distribution of the data at a glance\n",
    "- A frequency table is a tabular version of the frequency counts found in a histogram\n",
    "- A boxplot - with the top and bottom of the box at the 75th and 25th percentiles, respectively - also gives a quick sense of the distribution of the data; it is often used in side-by-side displays to compare distributions\n",
    "- A density plot is a smoothed version of a histogram; it requires a function to estimate the plot based on the data (multiple estimates are possible)\n",
    "\n",
    "### Further Reading\n",
    "\n",
    "- A SUNY Oswego professor provides a [step-by-step guide to creating a boxplot](http://www.oswego.edu/~srp/stats/bp_con.htm).\n",
    "- Density estimation in R is covered in [Henry Deng and Hadley Wickham’s paper of the same name](http://vita.had.co.nz/papers/density-estimation.pdf).\n",
    "- R-Bloggers has a [useful post on histograms in R](http://www.r-bloggers.com/basics-of-histograms/), including customization elements, such as binning (breaks)\n",
    "- R-Bloggers also has [similar post](http://www.r-bloggers.com/box-plot-with-r-tutorial/) on boxplots in R.\n",
    "- Matthew Conlen published an [interactive presentation](https://mathisonian.github.io/kde/) that demonstrates the effect of choosing different kernels and bandwidth on kernel density estimates.\n",
    "\n",
    "## Exploring Binary and Categorical Data\n",
    "\n",
    "### Key Terms for Exploring Categorical Data\n",
    "\n",
    "- **_Mode:_** The most commonly occurring category or value in a dataset\n",
    "- **_Expected Value:_** When the categories can be associated with a numeric value, this gives an average value based on the categories liklihood of occurence\n",
    "- **_Bar Charts:_** The frequency or proportion of each category plotted on bars\n",
    "- **_Pie Charts:_** The frequency or proportion of each category plotted as wedges in a pie\n",
    "\n",
    "We can look at a tablular representation of the proportion of delays at Dallas-Ft. Worth Airport by cause:"
   ]
  },
  {
   "cell_type": "code",
   "execution_count": 130,
   "metadata": {},
   "outputs": [
    {
     "name": "stdout",
     "output_type": "stream",
     "text": [
      "|    |   Carrier |     ATC |   Weather |   Security |   Inbound |\n",
      "|---:|----------:|--------:|----------:|-----------:|----------:|\n",
      "|  0 |    23.023 | 30.4008 |   4.02521 |   0.122937 |   42.4281 |\n"
     ]
    }
   ],
   "source": [
    "AIRPORT_DELAYS_CSV = '../data/dfw_airline.csv'\n",
    "dfw = pd.read_csv(AIRPORT_DELAYS_CSV)\n",
    "\n",
    "print((100 * dfw / dfw.values.sum()).to_markdown())"
   ]
  },
  {
   "cell_type": "markdown",
   "metadata": {},
   "source": [
    "And here we can see the representation in a bar chart:"
   ]
  },
  {
   "cell_type": "code",
   "execution_count": 98,
   "metadata": {},
   "outputs": [
    {
     "data": {
      "image/png": "[encoded data removed]",
      "text/plain": [
       "<Figure size 648x432 with 1 Axes>"
      ]
     },
     "metadata": {
      "needs_background": "light"
     },
     "output_type": "display_data"
    }
   ],
   "source": [
    "ax = dfw.transpose().plot.bar(figsize=(9, 6), legend=False)\n",
    "ax.set_xlabel('\\nDelays by cause at Dallas-Ft. Worth airport.');"
   ]
  },
  {
   "cell_type": "markdown",
   "metadata": {},
   "source": [
    "Bar charts look like histograms, but they are not the same - in histograms bars are typically touching each other, which makes sense since the data is categorical.  In bar charts the bars typically don't touch, but in a grouped bar chart you'll see them touch.\n",
    "\n",
    "Pie charts are an alternative to the bar chart, but are utter shit.  Don't use pie charts.  Horizontal bars kick the shit out of pie charts.\n",
    "\n",
    "> **Numerical Data as Categorical Data**  \n",
    "> In \"Frequency Tables and Histograms\", we looked at frequency tables based on binning the data.  This implicitly converts the numeric data into an ordered factor.  In this sense, histograms and bar charts are similar, except that the categories on the x-axis are not ordered.  Converting numeric data to categorical data is an important and widely used step in data analysis since it reduces the complexity (and size) of the data.  This aids in the discovery of relationships between the features, particularly in the early stages of an analysis.\n",
    "\n",
    "### Mode\n",
    "\n",
    "Mode is the most common value observed in a feature - for example, \"Inbound\" is the mode of cause of delay at DFW.  This is a summary statistic, and has little use outside of that\n",
    "\n",
    "### Expected Value\n",
    "\n",
    "We can look at a categorical expected value based on the following scenario.  Let the following table show the categories of service and proportion of sign-ups expected for attendees of a webinar offerred by a cloud services marketer:\n",
    "\n",
    "|Tier             |Proportion     |\n",
    "|-----------------|---------------|\n",
    "|\\$300 Level      |5%             |\n",
    "|\\$50 Level       |15%            |\n",
    "|No Purchase      |80%            |\n",
    "\n",
    "We can calculate the expected value of the marginal revenue per attendee as:  \n",
    "\n",
    "$$EV = 300(0.05) + 50(0.15) + 0(0.80) = 22.50$$\n",
    "\n",
    "This is a critical concept in Business Valuation and Capital Budgeting\n",
    "\n",
    "### Probability\n",
    "\n",
    "Probability is generally an intuitive concept.  It is the proportion of times an event cn be expected to occur over time.  This can be represented in frequency (an event happening 15% of the time) or as odds (common in sports - odds being 2-1 in favor mean that the probability is 2/3).  This is a fairly heavy concept which will not be discussed in depth here.\n",
    "\n",
    "### Key Ideas\n",
    "\n",
    "- Categorical Data is typically summed up in proportions, and can be visualized in a bar chart\n",
    "- Categories might represent distinct things (apples and oranges, male and female), levels of a factor variable (low, medium, high), or numeric data that has been binned\n",
    "- Expected value is the sum of values time the probability of their occurrence, often used to sum up factor variable levels\n",
    "\n",
    "### Further Reading \n",
    "- No statistics course is complete without a [lesson on misleading graphs](https://en.wikipedia.org/wiki/Misleading_graph), which often involve bar charts and pie charts.\n",
    "\n",
    "## Correlation\n",
    "\n",
    "Many data science projects look at examining the correlation between predictors, as well as predictors and their target variables.  Positive correlation means that values of $Y$ go up with increasing values of $X$, and negatively correlated values of $Y$ go down with increasing values of $X$.\n",
    "\n",
    "### Key Terms for Correlation\n",
    "- **_Correlation Coefficient:_** A metric that measures the extent to which numeric values are associated with one another (ranges from -1 to +1)\n",
    "- **_Correlation Matrix:_** A table where the variables are shown on both rows and columns, and the cell values are the correlations between the variables\n",
    "- **_Scatterplot:_** A plot in which the x-axis is the value of one variable, and the y-axis is the value of another\n",
    "\n",
    "For two variables:\n",
    "\n",
    "$$v1: \\{1, 2, 3\\}  \\\\\n",
    "v2: \\{4, 5, 6\\}$$\n",
    "\n",
    "Taking the sums of the products of the values doesn't tell you much, but if you compute _Pearson's Correlation Coefficient_ you can get a more useful measure of correlation.  The computation is made by summing the products of the devations from the mean for var 1 and var 2, and dividing by the product of the standard deviations time $n - 1$:\n",
    "\n",
    "$$r = \\frac{\\sum_{i=1}^{n}(x_i - \\overline{x})(y_i - \\overline{y})}{(n-1)s_xs_y}$$\n",
    "\n",
    "Here we will build a correlation matrix for telecoms in the S&P 500:"
   ]
  },
  {
   "cell_type": "code",
   "execution_count": 137,
   "metadata": {},
   "outputs": [
    {
     "name": "stdout",
     "output_type": "stream",
     "text": [
      "|      |        T |      CTL |      FTR |       VZ |     LVLT |\n",
      "|:-----|---------:|---------:|---------:|---------:|---------:|\n",
      "| T    | 1        | 0.474683 | 0.327767 | 0.677612 | 0.278626 |\n",
      "| CTL  | 0.474683 | 1        | 0.419757 | 0.416604 | 0.286665 |\n",
      "| FTR  | 0.327767 | 0.419757 | 1        | 0.287386 | 0.260068 |\n",
      "| VZ   | 0.677612 | 0.416604 | 0.287386 | 1        | 0.242199 |\n",
      "| LVLT | 0.278626 | 0.286665 | 0.260068 | 0.242199 | 1        |\n"
     ]
    }
   ],
   "source": [
    "sp500_px = pd.read_csv('../data/sp500_px.csv')\n",
    "sp500_px = sp500_px.set_index('Unnamed: 0')\n",
    "sp500_px.index.name = None\n",
    "sp500_sym = pd.read_csv('../data/sp500_sym.csv')\n",
    "\n",
    "telecoms = sp500_px.loc[sp500_px.index > '2012-07-01',\n",
    "                        sp500_sym[sp500_sym['sector'] == 'telecommunications_services']['symbol']]\n",
    "\n",
    "print(telecoms.corr().to_markdown())"
   ]
  },
  {
   "cell_type": "markdown",
   "metadata": {},
   "source": [
    "Here we will make a visualization in a heatmap of the correlations among EFTs:"
   ]
  },
  {
   "cell_type": "code",
   "execution_count": 138,
   "metadata": {},
   "outputs": [
    {
     "data": {
      "image/png": "[encoded data removed]",
      "text/plain": [
       "<Figure size 432x288 with 2 Axes>"
      ]
     },
     "metadata": {
      "needs_background": "light"
     },
     "output_type": "display_data"
    }
   ],
   "source": [
    "etfs = sp500_px.loc[sp500_px.index > '2012-07-01',\n",
    "                    sp500_sym[sp500_sym['sector'] == 'etf']['symbol']]\n",
    "\n",
    "import seaborn as sns\n",
    "\n",
    "sns.heatmap(etfs.corr(), vmin=-1, vmax=1,\n",
    "            cmap=sns.diverging_palette(20, 220, as_cmap=True));"
   ]
  },
  {
   "cell_type": "markdown",
   "metadata": {},
   "source": [
    "In both of these representations the diagonal is always 1 since a variable is always perfectly correlated with itself.  We see that the SPY (S&P) and DIA (Dow Jones) ETFs are highly positively correlated, as are QQQ and XLK, which are technology companies.  Defensive ETFs such as GLD (gold), USO (oil), and VXX (Market Volatility) are weakly or negatively correlated with the other ETFs.\n",
    "\n",
    "### Scatterplots\n",
    "\n",
    "Scatterplots provide a visual to examine relationships between two variables.  While a correlation coefficient is useful for quantifying a linear relationship,  a scatterplot can help reveal non-linear relationships."
   ]
  },
  {
   "cell_type": "code",
   "execution_count": 146,
   "metadata": {},
   "outputs": [
    {
     "data": {
      "image/png": "[encoded data removed]",
      "text/plain": [
       "<Figure size 648x432 with 1 Axes>"
      ]
     },
     "metadata": {
      "needs_background": "light"
     },
     "output_type": "display_data"
    }
   ],
   "source": [
    "ax = telecoms.plot.scatter(x='T', y='VZ', figsize=(9,6), marker='$\\u25EF$')\n",
    "ax.set_xlabel('AT&T (T)')\n",
    "ax.set_ylabel('Verizon (VZ)')\n",
    "ax.axhline(0, color='grey', lw=1)\n",
    "ax.axvline(0, color='grey', lw=1);"
   ]
  },
  {
   "cell_type": "code",
   "execution_count": null,
   "metadata": {},
   "outputs": [],
   "source": []
  }
 ],
 "metadata": {
  "kernelspec": {
   "display_name": "Python 3",
   "language": "python",
   "name": "python3"
  },
  "language_info": {
   "codemirror_mode": {
    "name": "ipython",
    "version": 3
   },
   "file_extension": ".py",
   "mimetype": "text/x-python",
   "name": "python",
   "nbconvert_exporter": "python",
   "pygments_lexer": "ipython3",
   "version": "3.7.6"
  }
 },
 "nbformat": 4,
 "nbformat_minor": 4
}
