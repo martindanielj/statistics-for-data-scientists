{
 "cells": [
  {
   "cell_type": "raw",
   "metadata": {},
   "source": [
    "---\n",
    "title: \"Practical Statistics for Data Scientists\"\n",
    "author: \"Dan Martin\"\n",
    "date: \"2020-02-17\"\n",
    "..."
   ]
  },
  {
   "cell_type": "markdown",
   "metadata": {},
   "source": [
    "# 1 - Exploratory Data Analysis\n",
    "\n",
    "## Elements of Structured Data\n",
    "\n",
    "### Key Terms for Data Types\n",
    "\n",
    "- **_Continuous:_** Data that can take on any value in an interval\n",
    "    - **Synonyms:** interval, float, numeric\n",
    "- **_Discrete:_** Data that can take on only integer values, such as counts\n",
    "    - **Synonyms:** integer, count\n",
    "- **_Categorical:_** Data that can take on only a specific set of values representing a set of possible categories\n",
    "    - **Synonyms:** enums, enumerated, factors, nominal, polychotomous\n",
    "- **_Binary:_** A special case of categorical data with just two categories of values (0/1, true/false)\n",
    "    - **Synonyms:** dichotomous, logical, indicator, boolean\n",
    "- **_Ordinal:_** Categorical Data that has an explicit ordering\n",
    "    - **Synonyms:** ordered factor\n",
    "    \n",
    "### Key Ideas\n",
    "\n",
    "- Data is typically classified in software by type\n",
    "- Data types include numeric (continuous, discrete) and categorical (binary, ordinal)\n",
    "- Data typing in software acts s a signal to the software on how to process the data\n",
    "    \n",
    "## Rectangular Data\n",
    "\n",
    "### Key Terms for Rectangular Data\n",
    "\n",
    "- **_Dataframe:_** Rectangular data (like a spreadsheet) is the basic data structure for statistical and machine learning models\n",
    "- **_Feature:_** A column in the table is commonly referred to as a _feature_\n",
    "    - **Synonyms:** attribute, input, predictor, variable\n",
    "- **_Outcome:_** Many data science projects involve predicting an _outcome_ - often a yes/no outcome (In table 1.1 it is 'auction was competitive or not').  The _features_ are sometimes used to predict the outcome in an experiment or study\n",
    "    - **Synonyms:** dependent variable, response, target, output\n",
    "\n",
    "\n",
    "|Category          |Currency|sellerRating|Duration|endDay|closePrice|openPrice|Competitive?|\n",
    "|------------------|--------|------------|--------|------|----------|---------|------------|\n",
    "|Music/ Movie/ Game|US      |3249        |5       |Mon   |0.01      |0.01     |0           |\n",
    "|Music/ Movie/ Game|US      |3249        |5       |Mon   |0.01      |0.01     |0           |\n",
    "|Automotive        |US      |3115        |7       |Tue   |0.01      |0.01     |0           |\n",
    "|Automotive        |US      |3115        |7       |Tue   |0.01      |0.01     |0           |\n",
    "|Automotive        |US      |3115        |7       |Tue   |0.01      |0.01     |0           |\n",
    "|Automotive        |US      |3115        |7       |Tue   |0.01      |0.01     |0           |\n",
    "|Automotive        |US      |3115        |7       |Tue   |0.01      |0.01     |1           |\n",
    "|Automotive        |US      |3115        |7       |Tue   |0.01      |0.01     |1           |\n",
    "\n",
    "Table 1.1: Sample Data\n",
    "\n",
    "## Estimates of Location\n",
    "\n",
    "Location can also be throught of as central tendency, where does the \"typical\" value lay?\n",
    "\n",
    "### Key Terms for Estimates of Location\n",
    "\n",
    "- **_Mean:_** The sum of all values divided by the number of values\n",
    "    - **Synonyms:** average\n",
    "- **_Weighted Mean:_** The sum of all values times a weight divided by the sum of the weights\n",
    "    - **Synonyms:** weighted average\n",
    "- **_Median:_** The value such that one half of the data lies above and below\n",
    "    - **Synonyms:** 50th Percentile\n",
    "- **_Percentile:_** The value such that P percent of the data lies below\n",
    "    - **Synonyms:** quantile\n",
    "- **_Weighted Median:_** The value such that one-half of the sum of the weights lies above and below the sorted data\n",
    "- **_Trimmed Mean:_** The average of all values after dropping a fixed number of extreme values\n",
    "    - **Synonyms:** truncated mean\n",
    "\n",
    "\n",
    "\n",
    "### Mean\n",
    "\n",
    "The mean represents the average - it's not a terribly robust estimate, however you can use a trimmed or weighted mean to improve resistance to outliers.\n",
    "\n",
    "$$\\overline{x} = \\mu = \\frac{\\sum_{i}^{n}x_{i}}{n}$$\n",
    "\n",
    "#### Trimmed Mean\n",
    "\n",
    "$$\\overline{x}_{t} = x = \\frac{\\sum_{i = p + 1}^{n - p}x_{i}}{n - 2p}$$\n",
    "\n",
    "#### Weighted Mean\n",
    "\n",
    "$$\\overline{x}_{w} = \\frac{\\sum_{i = 1}^{n}w_{i}x_{i}}{\\sum_{i}^{n}w_{i}}$$\n",
    "\n",
    "### Robust Metrics\n",
    "\n",
    "Median, trimmed and weighted mean are resistant to outliers - ...\n",
    "\n",
    "#### _Code Examples_"
   ]
  },
  {
   "cell_type": "code",
   "execution_count": 17,
   "metadata": {},
   "outputs": [
    {
     "name": "stdout",
     "output_type": "stream",
     "text": [
      "Population Metrics\n",
      "-----------------------------\n",
      "Mean:  6,162,876"
     ]
    }
   ],
   "source": [
    "# Import State Data\n",
    "state <- read.csv('../data/state.csv')\n",
    "\n",
    "# Population\n",
    "\n",
    "population_x_bar = mean(state[['Population']])\n",
    "#population_x_bar_t = trim_mean(state['Population'], 0.1)\n",
    "#population_x_med = np.median(state['Population'])\n",
    "\n",
    "# Murder Rate\n",
    "\n",
    "#murder_rate_x_bar = np.mean(state['Murder.Rate'])\n",
    "#murder_rate_x_bar_t = trim_mean(state['Murder.Rate'], 0.1)\n",
    "#murder_rate_x_bar_wt = np.average(state['Murder.Rate'], \n",
    "#                                  weights=state['Population'])\n",
    "#murder_rate_x_med = np.median(state['Murder.Rate'])\n",
    "#murder_rate_x_med_w = wquantiles.median(state['Murder.Rate'], \n",
    "#                                        weights=state['Population'])\n",
    "\n",
    "# -----------------------------------\n",
    "# Summary Output - Location Estimates\n",
    "# -----------------------------------\n",
    "\n",
    "cat('Population Metrics\\n')\n",
    "cat('-----------------------------\\n')\n",
    "cat('Mean: ', format(population_x_bar, big.mark=\",\"))\n",
    "cat('Trimmed Mean: ', population_x_bar_t)\n",
    "#print(f'Median: {population_x_med:,.0f}\\n')\n",
    "\n",
    "#print('Murder Rate Metrics')\n",
    "#print('-'*30,'\\n')\n",
    "#print(f'Mean: {murder_rate_x_bar:,.2f}')\n",
    "#print(f'Trimmed Mean: {murder_rate_x_bar_wt:,.3f}')\n",
    "#print(f'Weighted Mean: {murder_rate_x_bar_wt:,.5f}')\n",
    "#print(f'Median: {murder_rate_x_med:,.3f}')\n",
    "#print(f'Weighted Median: {murder_rate_x_med_w:,.3f}')"
   ]
  },
  {
   "cell_type": "markdown",
   "metadata": {},
   "source": [
    "### Key Ideas\n",
    "\n",
    "- The basic metric for location is the mean, but it can be sensitive to extreme values (outliers)\n",
    "- Other metrics (median, trimmed mean) are less sensitive to outliers and unusual distributions, hence more robust\n",
    "\n",
    "### Further Reading\n",
    "\n",
    "[Wikipedia: Central Tendency](https://en.wikipedia.org/wiki/Central_tendency)  \n",
    "John Tukey - _Exploratory Data Analysis_ 1977 Pearson"
   ]
  },
  {
   "cell_type": "markdown",
   "metadata": {},
   "source": [
    "## Estimates of Variability\n",
    "\n",
    "Variability measures disperion around the middle (central tendency).  Part of statistics is understanding random vs. real variability.\n",
    "\n",
    "### Key Terms for Variability Metrics\n",
    "- **_Deviations:_** The difference between the observed value and the estimate of location\n",
    "    - **Synonyms:** errors, residuals\n",
    "- **_Variance:_** The sum of squared deviations from the mean divided by $n - 1$, where $n$ is the number of observations\n",
    "    - **Synonyms:** mean-squared-error\n",
    "- **_Standard Deviation:_** The square root of the variance\n",
    "    - **Synonyms:** l1-norm, Euclidean norm\n",
    "- **_Mean Absolute Deviation:_** The mean of the absolute deviations from the mean\n",
    "    - **Synonyms:** l2-norm, Manhattan norm\n",
    "- **_Median Absolute Deviation from the Median:_** The median of the absolute values of the deviations from the median\n",
    "- **_Range:_** The difference between the largest and the smallest values in a dataset\n",
    "- **_Order Statistics:_** Metrics based on the data values ordered from smallest to largest\n",
    "    - **Synonyms:** ranks\n",
    "- **_Percentile:_** The value such that P-percent take on this value or less and (100 - P) take on this value or more\n",
    "    - **Synonyms:** quantile\n",
    "- **_Interquartile Range:_** The difference between the 75th and 25th percentile\n",
    "    - **Synonyms:** IQR\n",
    "    \n",
    "### Standard Deviation and Related Estimates\n",
    "\n",
    "Since the sum of all deviations is zero, there are corrections to the data that need to be made to get meaningful measures of dispersion.\n",
    "\n",
    "#### Mean Absolute Deviation\n",
    "\n",
    "Using the absolute deviations eliminates the offset of the positive and negative deviations:\n",
    "\n",
    "$$\\text{Mean Absolution Deviation} = \\frac{\\sum_{i=1}^{n}\\left|x_i - \\overline{x}\\right|}{n}$$\n",
    "\n",
    "#### Variance and Standard Deviation\n",
    "\n",
    "These are two of the most widely used measures of variability - squaring the deviations eliminates the positive/negative offset:\n",
    "\n",
    "$$\\text{Variance} = s^2 = \\frac{\\sum_{i=1}^{n} (x_i - \\overline{x})^2}{n-1}$$  \n",
    "$$\\text{Standard Deviation} = s = \\sqrt{\\text{Variance}}$$  \n",
    "The standard deviation is easy to work with since it's on the same scale as the measure in question\n",
    "\n",
    "> **Degrees of Freedom - $n$ vs. $n - 1$:**\n",
    "> The use of $n - 1$ vs $n$ in calulcating standard deviation comes from the concept of degrees of freedom.  The estimate of variance without using degrees of freedom results in what's called a biased estimate.  This is because there is a constraint placed on the calulation of the estimate of variance - namely, you have already estimated the mean.  This means that you have one fewer degree of freedom in the system because of this constraint.  Hence, dividing by $n - 1$ yields what we call the _unbiased estimator_.\n",
    "\n",
    "**Variance**, **Standard Deviation**, and **Mean Absolute Deviation** are not robust estimates - they are all sensitive to outliers, especially variance and SD since they use squared deviations.\n"
   ]
  },
  {
   "cell_type": "code",
   "execution_count": 4,
   "metadata": {},
   "outputs": [
    {
     "name": "stdout",
     "output_type": "stream",
     "text": [
      "Population - Variability\n",
      "------------------------------ \n",
      "\n",
      "Standard Deviation: 6,779,407.115\n"
     ]
    }
   ],
   "source": [
    "# -------------------------------------\n",
    "# Variance Measures\n",
    "# -------------------------------------\n",
    "\n",
    "# Calculations\n",
    "\n",
    "population_sd = np.std(state['Population'])\n",
    "\n",
    "# Output\n",
    "\n",
    "print('Population - Variability')\n",
    "print('-'*30,'\\n')\n",
    "print(f'Standard Deviation: {population_sd:,.3f}')\n"
   ]
  },
  {
   "cell_type": "markdown",
   "metadata": {},
   "source": [
    "A robust estimate of variability is the Median Absolute Deviation:\n",
    "\n",
    "$$\\text{Median Absolute Deviation} = Median(\\left|x_1 - m\\right|, \\left|x_2 - m\\right|, ..., \\left|x_n - m\\right|)$$\n",
    "\n",
    "### Estimates based on Percentiles\n",
    "\n",
    "Percentiles are a form of order statistics.  For large datasets this can be computationally very expensive operation because the data needs to be sorted to perform it.  Some packages will use algorithms that can quickly calculate an approximate value.\n",
    "\n",
    "For the set $\\{3,1,5,3,6,7,2,9\\}$, we can sort the data to get the ordered set $\\{1,2,3,4,5,6,7,8,9\\}$ and yield the following statistics:\n",
    "- The 25th percentile is 2.5\n",
    "- The 75th percentile is 6.5\n",
    "- The IQR is $6.5-2.5 = 4$\n",
    "\n",
    "> **Percentile: Precise Definition**  \n",
    "> If we have an even number of data ($n$ is even), then the percentile is ambiguous under the preceding definition. In fact, we could take on any value between order statistics $x_{(j)}$ and $x_{(j+1)}$ where $j$ satisfies:  \n",
    "> $$100 * \\frac{j}{n} \\leq P \\leq 100 * \\frac{j+1}{n}$$\n",
    "> Formally, the percentile is the weighted average:  \n",
    "> $$\\text{Percentile}(P) = (1-w)x_{(J)}+wx_{j+1)}$$  \n",
    "> for some weight $w$ between 0 and 1.  Statistical software has slightly different approaches to choosing $w$.  In fact, the _R_ function `quantile` offers nine different alternatives to compute the quantile.  Except for small datasets, you don't need to worry about how the quantile is calculated.  _Python's_ `numpy.quantile` only supports linear interpolation."
   ]
  },
  {
   "cell_type": "code",
   "execution_count": 12,
   "metadata": {},
   "outputs": [
    {
     "name": "stdout",
     "output_type": "stream",
     "text": [
      "Intequartile Range: 4,847,308.00\n",
      "Median Absolute Deviation: 3,849,876.15\n"
     ]
    }
   ],
   "source": [
    "from statsmodels.robust.scale import mad\n",
    "population_iqr = state['Population'].quantile(0.75) - state['Population'].quantile(0.25)\n",
    "population_mad = mad(state['Population'])\n",
    "\n",
    "print(f'Intequartile Range: {population_iqr:,.2f}')\n",
    "print(f'Median Absolute Deviation: {population_mad:,.2f}')"
   ]
  },
  {
   "cell_type": "markdown",
   "metadata": {},
   "source": [
    "### Key Ideas\n",
    "\n",
    "- The variance and standard deviation are the most widespread and routinely reported statistics of variability\n",
    "- Both are sensitive to outliers\n",
    "- More robust metrics include mean and median absolute deviations from the mean and percentiles\n",
    "\n",
    "### Further Reading\n",
    "\n",
    "[David Lane's Percentiles](http://onlinestatbook.com/2/introduction/percentiles.html)  \n",
    "[_R-bloggers_ on Deviations from Mean](http://www.r-bloggers.com/absolute-deviation-around-the-median/)\n",
    "\n",
    "## Exploring the Data Distribution\n",
    "\n",
    "It's useful to look at the distribution overall, in addition to one single measure of loction or dispersion.\n",
    "\n",
    "### Key Terms for Exploring the Distribution\n",
    "\n",
    "- **_Boxplot:_** A plot introduced by Tukey as a quick way to vizualize the distribution of data\n",
    "    - **Synonyms:** box and whisker plot\n",
    "- **_Frequency Table:_** A tally of the count of numeric data values that fall into a set of intervals (bins)\n",
    "- **_Histogram:_** A plot of the frequency table with the bins on the x-axis and the counts (or proportions) on the y-axis.  While visually similar, they should not be confused with histograms.  See [\"Exploring Binary and Categorical Data\"](https://learning.oreilly.com/library/view/practical-statistics-for/9781492072935/ch01.html#ExploringBinaryCategoricalData) for a discussion of the difference\n",
    "- **_Density Plot:_** A smoothed version of the histogram, often based on the _kernel density estimate_"
   ]
  },
  {
   "cell_type": "code",
   "execution_count": 13,
   "metadata": {},
   "outputs": [
    {
     "data": {
      "text/plain": [
       "0.05    1.600\n",
       "0.25    2.425\n",
       "0.50    4.000\n",
       "0.75    5.550\n",
       "0.95    6.510\n",
       "Name: Murder.Rate, dtype: float64"
      ]
     },
     "execution_count": 13,
     "metadata": {},
     "output_type": "execute_result"
    }
   ],
   "source": [
    "# Quantiles\n",
    "\n",
    "state['Murder.Rate'].quantile([0.05, 0.25, 0.5, 0.75, 0.95])"
   ]
  },
  {
   "cell_type": "code",
   "execution_count": 83,
   "metadata": {},
   "outputs": [
    {
     "data": {
      "image/png": "[encoded data removed]",
      "text/plain": [
       "<Figure size 432x504 with 1 Axes>"
      ]
     },
     "metadata": {
      "needs_background": "light"
     },
     "output_type": "display_data"
    }
   ],
   "source": [
    "import matplotlib.pyplot as plt\n",
    "\n",
    "ax = (state['Population']/1_000_000).plot.box(figsize = (6, 7))\n",
    "ax.set_ylabel('Population (millions)')\n",
    "ax.set_title('Population Distribution - Boxplot');"
   ]
  },
  {
   "cell_type": "markdown",
   "metadata": {},
   "source": [
    "We can see the 25 and 75 quantiles match with the borders of the box - the 50th matches the middle of the box.  The ends of the whiskers stop at the most extreme value or 1.5 times the IQR, whichever comes first.\n",
    "\n",
    "### Frequency Tables and Histograms\n",
    "\n",
    "We can use the `pandas` function `cut` to build a frequency table, which shows the interval as the value, and we can use `value_counts` to build out the freq table:"
   ]
  },
  {
   "cell_type": "code",
   "execution_count": 52,
   "metadata": {},
   "outputs": [
    {
     "data": {
      "text/plain": [
       "(526935.67, 4232659.0]      24\n",
       "(4232659.0, 7901692.0]      14\n",
       "(7901692.0, 11570725.0]      6\n",
       "(11570725.0, 15239758.0]     2\n",
       "(15239758.0, 18908791.0]     1\n",
       "(18908791.0, 22577824.0]     1\n",
       "(22577824.0, 26246857.0]     1\n",
       "(26246857.0, 29915890.0]     0\n",
       "(29915890.0, 33584923.0]     0\n",
       "(33584923.0, 37253956.0]     1\n",
       "Name: Population, dtype: int64"
      ]
     },
     "execution_count": 52,
     "metadata": {},
     "output_type": "execute_result"
    }
   ],
   "source": [
    "binnedPopulation = pd.cut(state['Population'], 10)\n",
    "binnedPopulation.value_counts(sort=False)"
   ]
  },
  {
   "cell_type": "markdown",
   "metadata": {},
   "source": [
    "The next visualization is a histogram - bins that are empty are plotted as empty space within the visualization.  The top bin, which has only one state (California) is similar to what we see in the frequency table."
   ]
  },
  {
   "cell_type": "code",
   "execution_count": 79,
   "metadata": {},
   "outputs": [
    {
     "data": {
      "image/png": "[encoded data removed]",
      "text/plain": [
       "<Figure size 648x432 with 1 Axes>"
      ]
     },
     "metadata": {
      "needs_background": "light"
     },
     "output_type": "display_data"
    }
   ],
   "source": [
    "ax = (state['Population'] / 1_000_000).plot.hist(figsize=(9, 6))\n",
    "ax.set_xlabel('Population (millions)')\n",
    "ax.set_title('Population Distribution - Histogram');"
   ]
  },
  {
   "cell_type": "markdown",
   "metadata": {},
   "source": [
    "> **Statistical Moments**  \n",
    "> In statistical theory, location and variability are referred to as the first and second _moments_ of the distribution.  The third and fourth moments of the distribution are called _skewness_ and _kurtosis_.  Skewness refers to whether the data is skewed to larger or smaller numbers and kurtosis indicates the propensity of the data to have extreme values.  Generally, metrics are not used to measure this, but rather visualizations  \n",
    ">  \n",
    "> For defined distibutions such as exponential, gamma, etc., the moments can be calculated\n",
    "\n",
    "### Density Plots and Estimates"
   ]
  },
  {
   "cell_type": "code",
   "execution_count": 75,
   "metadata": {},
   "outputs": [
    {
     "data": {
      "image/png": "[encoded data removed]",
      "text/plain": [
       "<Figure size 504x360 with 1 Axes>"
      ]
     },
     "metadata": {
      "needs_background": "light"
     },
     "output_type": "display_data"
    }
   ],
   "source": [
    "ax = state['Murder.Rate'].plot.hist(density=True, xlim=[0,12], bins=range(1,12), figsize=(7,5))\n",
    "state['Murder.Rate'].plot.density(ax=ax)\n",
    "ax.set_xlabel('Murder Rate (per 100,000)');"
   ]
  },
  {
   "cell_type": "markdown",
   "metadata": {},
   "source": [
    "Densities are related to proportions.  The sum of the area under the curve is 1.  For the proportion between two values you take the are under the curve between two points.\n",
    "\n",
    "> **Density Estimation**  \n",
    "> Density Estimation is a rich topic with a long history in statisticl literature.  In fact, over 20 _R_ packages have been published that offer functions for density estimation. [ _Deng-Wickham 2011_ ] "
   ]
  },
  {
   "cell_type": "markdown",
   "metadata": {},
   "source": [
    "## Exploring Binary and Categorical Data"
   ]
  },
  {
   "cell_type": "code",
   "execution_count": 89,
   "metadata": {},
   "outputs": [
    {
     "data": {
      "image/png": "[encoded data removed]",
      "text/plain": [
       "<Figure size 648x432 with 1 Axes>"
      ]
     },
     "metadata": {
      "needs_background": "light"
     },
     "output_type": "display_data"
    }
   ],
   "source": [
    "AIRPORT_DELAYS_CSV = '../data/dfw_airline.csv'\n",
    "dfw = pd.read_csv(AIRPORT_DELAYS_CSV)\n",
    "100 * dfw / dfw.values.sum()\n",
    "ax = dfw.transpose().plot.bar(figsize=(9, 6), legend=False)\n",
    "ax.set_xlabel('\\nDelays by cause at Dallas-Ft. Worth airport.');"
   ]
  },
  {
   "cell_type": "code",
   "execution_count": null,
   "metadata": {},
   "outputs": [],
   "source": []
  }
 ],
 "metadata": {
  "kernelspec": {
   "display_name": "R",
   "language": "R",
   "name": "ir"
  },
  "language_info": {
   "codemirror_mode": "r",
   "file_extension": ".r",
   "mimetype": "text/x-r-source",
   "name": "R",
   "pygments_lexer": "r",
   "version": "3.6.1"
  }
 },
 "nbformat": 4,
 "nbformat_minor": 4
}
